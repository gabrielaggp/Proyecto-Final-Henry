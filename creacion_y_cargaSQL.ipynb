{
 "cells": [
  {
   "cell_type": "markdown",
   "metadata": {},
   "source": [
    "### Creacion de Tablas"
   ]
  },
  {
   "cell_type": "markdown",
   "metadata": {},
   "source": [
    "Abrir coneccion a SQL"
   ]
  },
  {
   "cell_type": "code",
   "execution_count": 1,
   "metadata": {},
   "outputs": [],
   "source": [
    "import pyodbc\n",
    "\n",
    "# Conexión a SQL Server\n",
    "conn = pyodbc.connect(\n",
    "    \"DRIVER={ODBC Driver 17 for SQL Server};\"\n",
    "    \"SERVER=ANAGABRIELAD661;\"  \n",
    "    \"DATABASE=InsightHub;\"     \n",
    "    \"UID=grupo2;\"              \n",
    "    \"PWD=henry;\"               \n",
    ")\n",
    "\n",
    "cursor = conn.cursor()\n"
   ]
  },
  {
   "cell_type": "markdown",
   "metadata": {},
   "source": [
    "TABLA PRODUCTOS"
   ]
  },
  {
   "cell_type": "code",
   "execution_count": 3,
   "metadata": {},
   "outputs": [
    {
     "name": "stdout",
     "output_type": "stream",
     "text": [
      "Tabla creada exitosamente.\n"
     ]
    }
   ],
   "source": [
    "# Definición de tablas\n",
    "create_table_query = \"\"\"\n",
    "CREATE TABLE Productos (\n",
    "    Brand INT PRIMARY KEY, \n",
    "    Description NVARCHAR(255) NOT NULL, \n",
    "    Classification TINYINT NOT NULL CHECK (Classification IN (1, 2)), -- Add a comma here\n",
    "    Size_ml FLOAT, \n",
    "    Pack_Count INT\n",
    ");\n",
    "\"\"\"\n",
    "\n",
    "# Ejecutar la creación de tablas\n",
    "cursor.execute(create_table_query)\n",
    "conn.commit()\n",
    "print(\"Tabla creada exitosamente.\")\n"
   ]
  },
  {
   "cell_type": "markdown",
   "metadata": {},
   "source": [
    "TABLA VENDEDORES"
   ]
  },
  {
   "cell_type": "code",
   "execution_count": 8,
   "metadata": {},
   "outputs": [
    {
     "name": "stdout",
     "output_type": "stream",
     "text": [
      "Tabla 'Vendedores' creada exitosamente.\n"
     ]
    }
   ],
   "source": [
    "# SQL query to create the Vendedores table\n",
    "create_vendors_table_query = \"\"\"\n",
    "CREATE TABLE Vendedores (\n",
    "    VendorNumber INT PRIMARY KEY, -- Vendor number as primary key\n",
    "    VendorName NVARCHAR(255) NOT NULL -- Name of the vendor\n",
    ");\n",
    "\"\"\"\n",
    "\n",
    "# Execute the query to create the table\n",
    "cursor.execute(create_vendors_table_query)\n",
    "conn.commit()\n",
    "print(\"Tabla 'Vendedores' creada exitosamente.\")\n"
   ]
  },
  {
   "cell_type": "markdown",
   "metadata": {},
   "source": [
    "hay duplicados en la tabla vendors (solo en vendornumber)"
   ]
  },
  {
   "cell_type": "code",
   "execution_count": 11,
   "metadata": {},
   "outputs": [
    {
     "name": "stdout",
     "output_type": "stream",
     "text": [
      "Duplicate entries in the CSV:\n",
      "      VendorNumber                  VendorName\n",
      "48           2000  southern wine & spirits ne\n",
      "66           1587         vineyard brands inc\n",
      "126          2000  southern glazers w&s of ne\n",
      "131          1587         vineyard brands llc\n"
     ]
    }
   ],
   "source": [
    "duplicates = vendors_data[vendors_data.duplicated(subset=['VendorNumber'], keep=False)]\n",
    "print(\"Duplicate entries in the CSV:\\n\", duplicates)\n"
   ]
  },
  {
   "cell_type": "markdown",
   "metadata": {},
   "source": [
    "elijo quedarme con 48 y 66"
   ]
  },
  {
   "cell_type": "code",
   "execution_count": 12,
   "metadata": {},
   "outputs": [
    {
     "name": "stdout",
     "output_type": "stream",
     "text": [
      "Cleaned data to insert:\n",
      "    VendorNumber                  VendorName\n",
      "0          2000  southern wine & spirits ne\n",
      "1          1587         vineyard brands inc\n"
     ]
    }
   ],
   "source": [
    "# Identify and keep specific rows\n",
    "duplicates_to_keep = [48, 66]  # Indices of rows to keep\n",
    "vendors_data = vendors_data.loc[duplicates_to_keep]\n",
    "\n",
    "# Reset index after filtering\n",
    "vendors_data.reset_index(drop=True, inplace=True)\n",
    "\n",
    "print(\"Cleaned data to insert:\\n\", vendors_data)\n"
   ]
  },
  {
   "cell_type": "code",
   "execution_count": 14,
   "metadata": {},
   "outputs": [
    {
     "name": "stdout",
     "output_type": "stream",
     "text": [
      "Duplicate entry skipped: VendorNumber 2000\n",
      "Duplicate entry skipped: VendorNumber 1587\n"
     ]
    }
   ],
   "source": [
    "for index, row in vendors_data.iterrows():\n",
    "    try:\n",
    "        cursor.execute(\"\"\"\n",
    "            INSERT INTO Vendedores (VendorNumber, VendorName)\n",
    "            VALUES (?, ?)\n",
    "        \"\"\", \n",
    "        row['VendorNumber'], \n",
    "        row['VendorName'])\n",
    "    except pyodbc.IntegrityError as e:\n",
    "        # Handle duplicate primary key error\n",
    "        print(f\"Duplicate entry skipped: VendorNumber {row['VendorNumber']}\")\n",
    "\n"
   ]
  },
  {
   "cell_type": "code",
   "execution_count": 15,
   "metadata": {},
   "outputs": [
    {
     "name": "stdout",
     "output_type": "stream",
     "text": [
      "Cleaned data to insert:\n",
      "    VendorNumber                  VendorName\n",
      "0          2000  southern wine & spirits ne\n",
      "1          1587         vineyard brands inc\n",
      "Duplicate entry skipped: VendorNumber 2000\n",
      "Duplicate entry skipped: VendorNumber 1587\n",
      "Datos insertados exitosamente en la tabla 'Vendedores'.\n"
     ]
    }
   ],
   "source": [
    "# Identify and keep specific VendorNumbers\n",
    "vendors_to_keep = [2000, 1587]  # VendorNumber values to keep (48 and 66)\n",
    "\n",
    "# Filter DataFrame to keep only the specified VendorNumbers\n",
    "vendors_data_cleaned = vendors_data[vendors_data['VendorNumber'].isin(vendors_to_keep)]\n",
    "\n",
    "# Reset the index after filtering\n",
    "vendors_data_cleaned.reset_index(drop=True, inplace=True)\n",
    "\n",
    "print(\"Cleaned data to insert:\\n\", vendors_data_cleaned)\n",
    "\n",
    "# Insert the cleaned data into the database\n",
    "for index, row in vendors_data_cleaned.iterrows():\n",
    "    try:\n",
    "        cursor.execute(\"\"\"\n",
    "            INSERT INTO Vendedores (VendorNumber, VendorName)\n",
    "            VALUES (?, ?)\n",
    "        \"\"\", \n",
    "        row['VendorNumber'], \n",
    "        row['VendorName'])\n",
    "    except pyodbc.IntegrityError:\n",
    "        print(f\"Duplicate entry skipped: VendorNumber {row['VendorNumber']}\")\n",
    "\n",
    "print(\"Datos insertados exitosamente en la tabla 'Vendedores'.\")\n"
   ]
  },
  {
   "cell_type": "markdown",
   "metadata": {},
   "source": [
    "Inserto products.csv en la tabla de PRODUCTOS"
   ]
  },
  {
   "cell_type": "code",
   "execution_count": null,
   "metadata": {},
   "outputs": [
    {
     "name": "stdout",
     "output_type": "stream",
     "text": [
      "Datos insertados exitosamente.\n"
     ]
    }
   ],
   "source": [
    "# Cargar el archivo CSV\n",
    "csv_file_path = 'products.csv'\n",
    "data = pd.read_csv(csv_file_path)\n",
    "\n",
    "\n",
    "# Insert the data into the table\n",
    "for index, row in data.iterrows():\n",
    "    cursor.execute(\"\"\"\n",
    "        INSERT INTO Productos (Brand, Description, Classification, Size_ml, Pack_Count)\n",
    "        VALUES (?, ?, ?, ?, ?)\n",
    "    \"\"\",\n",
    "    row['Brand'], \n",
    "    row['Description'], \n",
    "    row['Classification'], \n",
    "    row['size_ml'],  # Match case with CSV\n",
    "    row['pack_count'])  # Match case with CSV\n",
    "\n",
    "# Confirmar los cambios\n",
    "conn.commit()\n",
    "\n",
    "print(\"Datos insertados exitosamente.\")\n",
    "\n"
   ]
  },
  {
   "cell_type": "markdown",
   "metadata": {},
   "source": [
    "TABLA DE SALES"
   ]
  },
  {
   "cell_type": "code",
   "execution_count": 16,
   "metadata": {},
   "outputs": [
    {
     "name": "stdout",
     "output_type": "stream",
     "text": [
      "Tabla 'Sales' creada exitosamente.\n"
     ]
    }
   ],
   "source": [
    "# SQL query to create the Sales table\n",
    "create_sales_table_query = \"\"\"\n",
    "CREATE TABLE Sales (\n",
    "    SalesID INT PRIMARY KEY, \n",
    "    InventoryId NVARCHAR(50), \n",
    "    Store INT, \n",
    "    Brand INT, \n",
    "    Description NVARCHAR(255), \n",
    "    Size NVARCHAR(50), \n",
    "    SalesQuantity INT, \n",
    "    SalesDollars FLOAT, \n",
    "    SalesPrice FLOAT, \n",
    "    SalesDate DATE, \n",
    "    size_ml INT, \n",
    "    Classification TINYINT, \n",
    "    ExciseTax FLOAT, \n",
    "    VendorNumber INT, \n",
    "    VendorName NVARCHAR(255), \n",
    "    CalculatedSalesDollars FLOAT\n",
    ");\n",
    "\"\"\"\n",
    "\n",
    "# Execute the query to create the table\n",
    "cursor.execute(create_sales_table_query)\n",
    "conn.commit()\n",
    "\n",
    "print(\"Tabla 'Sales' creada exitosamente.\")\n"
   ]
  },
  {
   "cell_type": "markdown",
   "metadata": {},
   "source": [
    "SalesID era una clave artificial autoincremental, sin embargo hubo errores, al parecer se duplicaron.. por lo que se decide sacar el id y luego agregarlo artificialmente una vez que la tabla esta cargada"
   ]
  },
  {
   "cell_type": "code",
   "execution_count": null,
   "metadata": {},
   "outputs": [
    {
     "name": "stdout",
     "output_type": "stream",
     "text": [
      "Tabla 'Ventas' creada exitosamente.\n",
      "Datos insertados exitosamente.\n"
     ]
    }
   ],
   "source": [
    "# Crear la tabla Ventas con los tipos de datos especificados sin salesID\n",
    "create_sales_table_query = \"\"\"\n",
    "CREATE TABLE Ventas (\n",
    "    InventoryId NVARCHAR(50), \n",
    "    Store INT, \n",
    "    Brand INT, \n",
    "    Description NVARCHAR(255), \n",
    "    SalesQuantity INT, \n",
    "    SalesDollars FLOAT, \n",
    "    SalesPrice FLOAT, \n",
    "    SalesDate DATE, \n",
    "    ExciseTax FLOAT, \n",
    "    VendorNumber INT, \n",
    "    size_ml FLOAT, \n",
    "    pack_count FLOAT\n",
    ");\n",
    "\"\"\"\n",
    "cursor.execute(create_sales_table_query)\n",
    "conn.commit()\n",
    "print(\"Tabla 'Ventas' creada exitosamente.\")\n",
    "\n",
    "# Cargar el archivo CSV limpio\n",
    "csv_file_path = 'cleaned_sales.csv'  \n",
    "sales_data = pd.read_csv(csv_file_path)\n",
    "\n",
    "# Insertar los datos en la tabla Ventas\n",
    "for index, row in sales_data.iterrows():\n",
    "    try:\n",
    "        cursor.execute(\"\"\"\n",
    "            INSERT INTO Ventas (\n",
    "                InventoryId, Store, Brand, Description, \n",
    "                SalesQuantity, SalesDollars, SalesPrice, SalesDate, \n",
    "                ExciseTax, VendorNumber, size_ml, pack_count\n",
    "            )\n",
    "            VALUES (?, ?, ?, ?, ?, ?, ?, ?, ?, ?, ?, ?)\n",
    "        \"\"\", \n",
    "        row['InventoryId'], \n",
    "        row['Store'], \n",
    "        row['Brand'], \n",
    "        row['Description'], \n",
    "        row['SalesQuantity'], \n",
    "        row['SalesDollars'], \n",
    "        row['SalesPrice'], \n",
    "        row['SalesDate'], \n",
    "        row['ExciseTax'], \n",
    "        row['VendorNumber'], \n",
    "        row['size_ml'], \n",
    "        row['pack_count']\n",
    "        )\n",
    "    except Exception as e:\n",
    "        print(f\"Error inserting row {index}: {e}\")\n",
    "\n",
    "# Confirmar la transacción\n",
    "conn.commit()\n",
    "print(\"Datos insertados exitosamente.\")\n",
    "\n",
    "\n"
   ]
  },
  {
   "cell_type": "code",
   "execution_count": null,
   "metadata": {},
   "outputs": [
    {
     "name": "stdout",
     "output_type": "stream",
     "text": [
      "Created 'Ventas_New' table successfully.\n",
      "Copied data to 'Ventas_New' table successfully.\n",
      "Dropped old 'Ventas' table successfully.\n",
      "Renamed 'Ventas_New' to 'Ventas'.\n",
      "Added auto-incrementing primary key 'SalesID' to 'Ventas'.\n"
     ]
    }
   ],
   "source": [
    "\n",
    "# Step 1: Create the new table with specified columns\n",
    "cursor.execute(\"\"\"\n",
    "CREATE TABLE Ventas_New (\n",
    "    InventoryId NVARCHAR(50), \n",
    "    Store INT, \n",
    "    Brand INT, \n",
    "    Description NVARCHAR(255), \n",
    "    SalesQuantity INT, \n",
    "    SalesDollars FLOAT, \n",
    "    SalesPrice FLOAT, \n",
    "    SalesDate DATE, \n",
    "    ExciseTax FLOAT, \n",
    "    VendorNumber INT, \n",
    "    size_ml FLOAT, \n",
    "    pack_count FLOAT\n",
    ");\n",
    "\"\"\")\n",
    "conn.commit()\n",
    "print(\"Created 'Ventas_New' table successfully.\")\n",
    "\n",
    "# Step 2: Copy data from the old table\n",
    "cursor.execute(\"\"\"\n",
    "INSERT INTO Ventas_New (\n",
    "    InventoryId, Store, Brand, Description, \n",
    "    SalesQuantity, SalesDollars, SalesPrice, SalesDate, \n",
    "    ExciseTax, VendorNumber, size_ml, pack_count\n",
    ")\n",
    "SELECT \n",
    "    InventoryId, Store, Brand, Description, \n",
    "    SalesQuantity, SalesDollars, SalesPrice, SalesDate, \n",
    "    ExciseTax, VendorNumber, size_ml, pack_count\n",
    "FROM Ventas;\n",
    "\"\"\")\n",
    "conn.commit()\n",
    "print(\"Copied data to 'Ventas_New' table successfully.\")\n",
    "\n",
    "# Step 3: Drop the old table\n",
    "cursor.execute(\"DROP TABLE Ventas;\")\n",
    "conn.commit()\n",
    "print(\"Dropped old 'Ventas' table successfully.\")\n",
    "\n",
    "# Step 4: Rename the new table\n",
    "cursor.execute(\"EXEC sp_rename 'Ventas_New', 'Ventas';\")\n",
    "conn.commit()\n",
    "print(\"Renamed 'Ventas_New' to 'Ventas'.\")\n",
    "\n",
    "# Step 5: Add auto-incrementing primary key\n",
    "cursor.execute(\"\"\"\n",
    "ALTER TABLE Ventas\n",
    "ADD SalesID INT IDENTITY(1,1) PRIMARY KEY;\n",
    "\"\"\")\n",
    "conn.commit()\n",
    "print(\"Added auto-incrementing primary key 'SalesID' to 'Ventas'.\")\n"
   ]
  },
  {
   "cell_type": "code",
   "execution_count": 13,
   "metadata": {},
   "outputs": [
    {
     "name": "stdout",
     "output_type": "stream",
     "text": [
      "Added foreign key constraint FK_Ventas_Productos.\n",
      "Added foreign key constraint FK_Ventas_Vendedores.\n"
     ]
    }
   ],
   "source": [
    "# Add foreign key for Brand\n",
    "cursor.execute(\"\"\"\n",
    "ALTER TABLE Ventas\n",
    "ADD CONSTRAINT FK_Ventas_Productos\n",
    "FOREIGN KEY (Brand) REFERENCES Productos(Brand);\n",
    "\"\"\")\n",
    "conn.commit()\n",
    "print(\"Added foreign key constraint FK_Ventas_Productos.\")\n",
    "\n",
    "# Add foreign key for VendorNumber\n",
    "cursor.execute(\"\"\"\n",
    "ALTER TABLE Ventas\n",
    "ADD CONSTRAINT FK_Ventas_Vendedores\n",
    "FOREIGN KEY (VendorNumber) REFERENCES Vendedores(VendorNumber);\n",
    "\"\"\")\n",
    "conn.commit()\n",
    "print(\"Added foreign key constraint FK_Ventas_Vendedores.\")\n"
   ]
  },
  {
   "cell_type": "markdown",
   "metadata": {},
   "source": [
    "TABLA PreciosCompra (purchaseprices)"
   ]
  },
  {
   "cell_type": "code",
   "execution_count": null,
   "metadata": {},
   "outputs": [],
   "source": [
    "# Step 1: Create the \"PreciosCompra\" table\n",
    "create_table_query = \"\"\"\n",
    "CREATE TABLE PreciosCompra (\n",
    "    SupplierID INT, \n",
    "    Brand INT, \n",
    "    Description NVARCHAR(255), \n",
    "    Price FLOAT, \n",
    "    Classification INT, \n",
    "    PurchasePrice FLOAT, \n",
    "    VendorNumber INT, \n",
    "    VendorName NVARCHAR(255), \n",
    "    size_ml FLOAT, \n",
    "    pack_count INT\n",
    ");\n",
    "\"\"\"\n",
    "cursor.execute(create_table_query)\n",
    "conn.commit()\n",
    "print(\"Table 'PreciosCompra' created successfully.\")\n",
    "\n"
   ]
  },
  {
   "cell_type": "code",
   "execution_count": 15,
   "metadata": {},
   "outputs": [
    {
     "name": "stdout",
     "output_type": "stream",
     "text": [
      "se insertaron los datos en 'PreciosCompra'.\n"
     ]
    }
   ],
   "source": [
    "\n",
    "csv_file_path = 'cleaned_purchasePrices.csv'  \n",
    "purchase_prices_data = pd.read_csv(csv_file_path)\n",
    "\n",
    "for index, row in purchase_prices_data.iterrows():\n",
    "    cursor.execute(\"\"\"\n",
    "        INSERT INTO PreciosCompra (\n",
    "            SupplierID, Brand, Description, Price, Classification, \n",
    "            PurchasePrice, VendorNumber, VendorName, size_ml, pack_count\n",
    "        )\n",
    "        VALUES (?, ?, ?, ?, ?, ?, ?, ?, ?, ?)\n",
    "    \"\"\", \n",
    "    row['SupplierID'], \n",
    "    row['Brand'], \n",
    "    row['Description'], \n",
    "    row['Price'], \n",
    "    row['Classification'], \n",
    "    row['PurchasePrice'], \n",
    "    row['VendorNumber'], \n",
    "    row['VendorName'], \n",
    "    row['size_ml'], \n",
    "    row['pack_count'])\n",
    "conn.commit()\n",
    "print(\"se insertaron los datos en 'PreciosCompra'.\")\n",
    "\n",
    "\n"
   ]
  },
  {
   "cell_type": "markdown",
   "metadata": {},
   "source": [
    "RELACIONES"
   ]
  },
  {
   "cell_type": "code",
   "execution_count": null,
   "metadata": {},
   "outputs": [],
   "source": [
    "# Add foreign key for Brand\n",
    "cursor.execute(\"\"\"\n",
    "ALTER TABLE PreciosCompra\n",
    "ADD CONSTRAINT FK_PreciosCompra_Productos\n",
    "FOREIGN KEY (Brand) REFERENCES Productos(Brand);\n",
    "\"\"\")\n",
    "conn.commit()\n",
    "print(\"Alles gut =).\")"
   ]
  },
  {
   "cell_type": "code",
   "execution_count": 17,
   "metadata": {},
   "outputs": [
    {
     "name": "stdout",
     "output_type": "stream",
     "text": [
      "Alles gut\n",
      "proost =).\n"
     ]
    }
   ],
   "source": [
    "# Identify and resolve missing VendorNumber values\n",
    "cursor.execute(\"\"\"\n",
    "INSERT INTO Vendedores (VendorNumber, VendorName)\n",
    "SELECT DISTINCT VendorNumber, 'Unknown Vendor'\n",
    "FROM PreciosCompra\n",
    "WHERE VendorNumber NOT IN (SELECT VendorNumber FROM Vendedores);\n",
    "\"\"\")\n",
    "conn.commit()\n",
    "print(\"Alles gut\")\n",
    "\n",
    "# Add the foreign key for VendorNumber\n",
    "cursor.execute(\"\"\"\n",
    "ALTER TABLE PreciosCompra\n",
    "ADD CONSTRAINT FK_PreciosCompra_Vendedores\n",
    "FOREIGN KEY (VendorNumber) REFERENCES Vendedores(VendorNumber);\n",
    "\"\"\")\n",
    "conn.commit()\n",
    "print(\"proost =).\")\n"
   ]
  },
  {
   "cell_type": "markdown",
   "metadata": {},
   "source": [
    "de nuevo tengo problemas con la columna pk que hice (en este caso lo habia hecho usando otras columnas..pero me aparecen columnas nulas asique borro la columna y creo una nueva con datos artificiales nuevamente)"
   ]
  },
  {
   "cell_type": "code",
   "execution_count": 19,
   "metadata": {},
   "outputs": [
    {
     "name": "stdout",
     "output_type": "stream",
     "text": [
      "se elimino la columna SupplierID.\n",
      "se creo una nueva columna de supplierID\n"
     ]
    }
   ],
   "source": [
    "try:\n",
    "    # Step 1: Drop the existing SupplierID column\n",
    "    cursor.execute(\"\"\"\n",
    "    ALTER TABLE PreciosCompra\n",
    "    DROP COLUMN SupplierID;\n",
    "    \"\"\")\n",
    "    conn.commit()\n",
    "    print(\"se elimino la columna SupplierID.\")\n",
    "\n",
    "    # Step 2: Add a new SupplierID column with auto-increment\n",
    "    cursor.execute(\"\"\"\n",
    "    ALTER TABLE PreciosCompra\n",
    "    ADD SupplierID INT IDENTITY(1,1) PRIMARY KEY;\n",
    "    \"\"\")\n",
    "    conn.commit()\n",
    "    print(\"se creo una nueva columna de supplierID\")\n",
    "\n",
    "except pyodbc.Error as e:\n",
    "    print(f\"Error: {e}\")\n",
    "\n"
   ]
  },
  {
   "cell_type": "code",
   "execution_count": 21,
   "metadata": {},
   "outputs": [
    {
     "name": "stdout",
     "output_type": "stream",
     "text": [
      "Tabla 'Compras' creada exitosamente.\n",
      "Datos cargados exitosamente en la tabla 'Compras'.\n"
     ]
    }
   ],
   "source": [
    "\n",
    "csv_file_path = 'cleaned_purchases.csv'  # Cambia esta ruta por la tuya\n",
    "data = pd.read_csv(csv_file_path)\n",
    "\n",
    "# Crear la tabla sin la columna 'Size'\n",
    "create_table_query = \"\"\"\n",
    "CREATE TABLE Compras (\n",
    "    PurchaseID NVARCHAR(50),\n",
    "    InventoryId NVARCHAR(50),\n",
    "    Store INT,\n",
    "    Brand INT,\n",
    "    Description NVARCHAR(255),\n",
    "    VendorNumber INT,\n",
    "    VendorName NVARCHAR(255),\n",
    "    PONumber INT,\n",
    "    PODate DATE,\n",
    "    ReceivingDate DATE,\n",
    "    InvoiceDate DATE,\n",
    "    PayDate DATE,\n",
    "    PurchasePrice FLOAT,\n",
    "    Quantity INT,\n",
    "    Dollars FLOAT,\n",
    "    Classification INT,\n",
    "    size_ml FLOAT,\n",
    "    pack_count INT\n",
    ");\n",
    "\"\"\"\n",
    "cursor.execute(create_table_query)\n",
    "conn.commit()\n",
    "print(\"Tabla 'Compras' creada exitosamente.\")\n",
    "\n",
    "# Cargar los datos en la tabla\n",
    "for index, row in data.iterrows():\n",
    "    cursor.execute(\"\"\"\n",
    "        INSERT INTO Compras (\n",
    "            PurchaseID, InventoryId, Store, Brand, Description,\n",
    "            VendorNumber, VendorName, PONumber, PODate, ReceivingDate,\n",
    "            InvoiceDate, PayDate, PurchasePrice, Quantity, Dollars,\n",
    "            Classification, size_ml, pack_count\n",
    "        )\n",
    "        VALUES (?, ?, ?, ?, ?, ?, ?, ?, ?, ?, ?, ?, ?, ?, ?, ?, ?, ?)\n",
    "    \"\"\", \n",
    "    row['PurchaseID'], \n",
    "    row['InventoryId'], \n",
    "    row['Store'], \n",
    "    row['Brand'], \n",
    "    row['Description'], \n",
    "    row['VendorNumber'], \n",
    "    row['VendorName'], \n",
    "    row['PONumber'], \n",
    "    row['PODate'], \n",
    "    row['ReceivingDate'], \n",
    "    row['InvoiceDate'], \n",
    "    row['PayDate'], \n",
    "    row['PurchasePrice'], \n",
    "    row['Quantity'], \n",
    "    row['Dollars'], \n",
    "    row['Classification'], \n",
    "    row['size_ml'], \n",
    "    row['pack_count'])\n",
    "conn.commit()\n",
    "print(\"Datos cargados exitosamente en la tabla 'Compras'.\")"
   ]
  },
  {
   "cell_type": "code",
   "execution_count": 26,
   "metadata": {},
   "outputs": [
    {
     "name": "stdout",
     "output_type": "stream",
     "text": [
      "Error al establecer relaciones: ('42S01', \"[42S01] [Microsoft][ODBC Driver 17 for SQL Server][SQL Server]There is already an object named 'FK_Compras_Productos' in the database. (2714) (SQLExecDirectW); [42S01] [Microsoft][ODBC Driver 17 for SQL Server][SQL Server]Could not create constraint or index. See previous errors. (1750)\")\n"
     ]
    }
   ],
   "source": [
    "try:\n",
    "    # Establecer la relación Brand -> Productos\n",
    "    cursor.execute(\"\"\"\n",
    "    ALTER TABLE Compras\n",
    "    ADD CONSTRAINT FK_Compras_Productos\n",
    "    FOREIGN KEY (Brand) REFERENCES Productos(Brand);\n",
    "    \"\"\")\n",
    "    conn.commit()\n",
    "    print(\"Relación con la tabla 'Productos' establecida exitosamente.\")\n",
    "\n",
    "    # Establecer la relación VendorNumber -> Vendedores\n",
    "    cursor.execute(\"\"\"\n",
    "    ALTER TABLE Compras\n",
    "    ADD CONSTRAINT FK_Compras_Vendedores\n",
    "    FOREIGN KEY (VendorNumber) REFERENCES Vendedores(VendorNumber);\n",
    "    \"\"\")\n",
    "    conn.commit()\n",
    "    print(\"Relación con la tabla 'Vendedores' establecida exitosamente.\")\n",
    "\n",
    "except pyodbc.Error as e:\n",
    "    print(f\"Error al establecer relaciones: {e}\")\n",
    "\n"
   ]
  },
  {
   "cell_type": "markdown",
   "metadata": {},
   "source": [
    "al establecer la fk con vendedores hubo un vendedornumber que no me aparecia en la tabla de vendedores. lo agregue con nombre desconocido. "
   ]
  },
  {
   "cell_type": "code",
   "execution_count": 29,
   "metadata": {},
   "outputs": [
    {
     "name": "stdout",
     "output_type": "stream",
     "text": [
      "Verificando valores nulos o duplicados en 'PurchaseID'...\n",
      "Estableciendo 'PurchaseID' como clave primaria...\n",
      "Error al establecer 'PurchaseID' como clave primaria: ('42000', \"[42000] [Microsoft][ODBC Driver 17 for SQL Server][SQL Server]Cannot define PRIMARY KEY constraint on nullable column in table 'Compras'. (8111) (SQLExecDirectW); [42000] [Microsoft][ODBC Driver 17 for SQL Server][SQL Server]Could not create constraint or index. See previous errors. (1750)\")\n"
     ]
    }
   ],
   "source": [
    "\n",
    "try:\n",
    "    # Verificar valores nulos o duplicados en PurchaseID\n",
    "    print(\"Verificando valores nulos o duplicados en 'PurchaseID'...\")\n",
    "    cursor.execute(\"\"\"\n",
    "    SELECT PurchaseID, COUNT(*)\n",
    "    FROM Compras\n",
    "    GROUP BY PurchaseID\n",
    "    HAVING COUNT(*) > 1;\n",
    "    \"\"\")\n",
    "    duplicates = cursor.fetchall()\n",
    "    if duplicates:\n",
    "        print(\"Existen duplicados en 'PurchaseID':\")\n",
    "        for row in duplicates:\n",
    "            print(row)\n",
    "        raise Exception(\"Elimina los duplicados antes de continuar.\")\n",
    "\n",
    "    cursor.execute(\"\"\"\n",
    "    SELECT *\n",
    "    FROM Compras\n",
    "    WHERE PurchaseID IS NULL;\n",
    "    \"\"\")\n",
    "    nulls = cursor.fetchall()\n",
    "    if nulls:\n",
    "        print(\"Existen valores nulos en 'PurchaseID':\")\n",
    "        for row in nulls:\n",
    "            print(row)\n",
    "        raise Exception(\"Elimina los valores nulos antes de continuar.\")\n",
    "\n",
    "    # Establecer la clave primaria\n",
    "    print(\"Estableciendo 'PurchaseID' como clave primaria...\")\n",
    "    cursor.execute(\"\"\"\n",
    "    ALTER TABLE Compras\n",
    "    ADD CONSTRAINT PK_Compras PRIMARY KEY (PurchaseID);\n",
    "    \"\"\")\n",
    "    conn.commit()\n",
    "    print(\"'PurchaseID' ahora es clave primaria en la tabla 'Compras'.\")\n",
    "\n",
    "except pyodbc.Error as e:\n",
    "    print(f\"Error al establecer 'PurchaseID' como clave primaria: {e}\")\n",
    "except Exception as custom_error:\n",
    "    print(custom_error)\n"
   ]
  },
  {
   "cell_type": "markdown",
   "metadata": {},
   "source": [
    "cuando verifico en sql no hay ningun valor nulo, ni ningun problema visible\n",
    "ALTER TABLE Compras\n",
    "ALTER COLUMN PurchaseID NVARCHAR(250) NOT NULL;"
   ]
  },
  {
   "cell_type": "code",
   "execution_count": null,
   "metadata": {},
   "outputs": [],
   "source": [
    "import pandas as pd\n",
    "import pyodbc\n",
    "\n",
    "# Ruta del archivo CSV\n",
    "csv_file_path = 'cleaned_endInventory.csv'\n",
    "\n",
    "# Leer el archivo CSV\n",
    "data = pd.read_csv(csv_file_path)\n",
    "\n",
    "#Crear la tabla 'Inventario'\n",
    "#create_table_query = \"\"\"\n",
    "CREATE TABLE InventarioFinal (\n",
    "    InventoryId NVARCHAR(250) PRIMARY KEY, -- Clave primaria\n",
    "    Store INT,\n",
    "    City NVARCHAR(100),\n",
    "    Brand INT,\n",
    "    Description NVARCHAR(255),\n",
    "    onHand INT,\n",
    "    Price FLOAT,\n",
    "    endDate DATE,\n",
    "    size_ml FLOAT,\n",
    "    pack_count FLOAT\n",
    ");\n",
    "\n",
    "#\"\"\"\n",
    "cursor.execute(create_table_query)\n",
    "conn.commit()\n",
    "print(\"Tabla 'Inventario Final' creada exitosamente.\")\n",
    "\n"
   ]
  },
  {
   "cell_type": "code",
   "execution_count": 38,
   "metadata": {},
   "outputs": [
    {
     "name": "stdout",
     "output_type": "stream",
     "text": [
      "Se encontraron 0 filas problemáticas.\n"
     ]
    }
   ],
   "source": [
    "# Recorrer fila por fila y verificar problemas\n",
    "problematic_rows = []\n",
    "\n",
    "for index, row in data.iterrows():\n",
    "    try:\n",
    "        # Intentar preparar los datos para la inserción\n",
    "        size_ml = float(row['size_ml']) if pd.notnull(row['size_ml']) else None\n",
    "        pack_count = float(row['pack_count']) if pd.notnull(row['pack_count']) else None\n",
    "        \n",
    "        # Verificar si los datos son válidos para SQL Server\n",
    "        cursor.execute(\"\"\"\n",
    "            INSERT INTO InventarioFinal (\n",
    "                InventoryId, Store, City, Brand, Description, \n",
    "                onHand, Price, endDate, size_ml, pack_count\n",
    "            ) VALUES (?, ?, ?, ?, ?, ?, ?, ?, ?, ?)\n",
    "        \"\"\",\n",
    "        row['InventoryId'],\n",
    "        row['Store'],\n",
    "        row['City'],\n",
    "        row['Brand'],\n",
    "        row['Description'],\n",
    "        row['onHand'],\n",
    "        row['Price'],\n",
    "        row['endDate'],\n",
    "        size_ml,\n",
    "        pack_count)\n",
    "    except Exception as e:\n",
    "        # Agregar la fila a la lista de filas problemáticas\n",
    "        problematic_rows.append((index, row.to_dict(), str(e)))\n",
    "\n",
    "# Mostrar filas problemáticas\n",
    "print(f\"Se encontraron {len(problematic_rows)} filas problemáticas.\")\n",
    "for problem in problematic_rows:\n",
    "    print(f\"Fila: {problem[0]}, Error: {problem[2]}\")\n",
    "    print(problem[1])\n"
   ]
  },
  {
   "cell_type": "code",
   "execution_count": 40,
   "metadata": {},
   "outputs": [
    {
     "name": "stdout",
     "output_type": "stream",
     "text": [
      "Filas para insertar:\n",
      "Empty DataFrame\n",
      "Columns: [InventoryId, Store, City, Brand, Description, onHand, Price, endDate, size_ml, pack_count]\n",
      "Index: []\n"
     ]
    }
   ],
   "source": [
    "# Obtener las claves existentes en la tabla 'InventarioFinal'\n",
    "cursor.execute(\"SELECT InventoryId FROM InventarioFinal\")\n",
    "existing_ids = set(row[0] for row in cursor.fetchall())\n",
    "\n",
    "# Filtrar filas que no están en la base de datos\n",
    "data = data[~data['InventoryId'].isin(existing_ids)]\n",
    "print(f\"Filas para insertar:\\n{data}\")\n"
   ]
  },
  {
   "cell_type": "code",
   "execution_count": 41,
   "metadata": {},
   "outputs": [
    {
     "name": "stdout",
     "output_type": "stream",
     "text": [
      "Clave foránea creada exitosamente.\n"
     ]
    }
   ],
   "source": [
    "try:\n",
    "    # Verificar consistencia de datos\n",
    "    cursor.execute(\"\"\"\n",
    "        SELECT DISTINCT Brand\n",
    "        FROM InventarioFinal\n",
    "        WHERE Brand NOT IN (SELECT Brand FROM Productos);\n",
    "    \"\"\")\n",
    "    missing_brands = cursor.fetchall()\n",
    "    \n",
    "    if missing_brands:\n",
    "        print(\"Existen marcas en InventarioFinal que no están en Productos:\")\n",
    "        for brand in missing_brands:\n",
    "            print(brand)\n",
    "        print(\"Por favor, corrige estas inconsistencias antes de continuar.\")\n",
    "    else:\n",
    "        # Establecer la clave foránea\n",
    "        cursor.execute(\"\"\"\n",
    "            ALTER TABLE InventarioFinal\n",
    "            ADD CONSTRAINT FK_InventarioFinal_Productos\n",
    "            FOREIGN KEY (Brand) REFERENCES Productos (Brand);\n",
    "        \"\"\")\n",
    "        conn.commit()\n",
    "        print(\"Clave foránea creada exitosamente.\")\n",
    "\n",
    "except pyodbc.Error as e:\n",
    "    print(f\"Error al establecer la clave foránea: {e}\")\n",
    "\n"
   ]
  },
  {
   "cell_type": "markdown",
   "metadata": {},
   "source": [
    "TABLA FACTURAS DE COMPRAS"
   ]
  },
  {
   "cell_type": "code",
   "execution_count": null,
   "metadata": {},
   "outputs": [],
   "source": [
    "# Crear la tabla en SQL Server \n",
    "create_table_query = \"\"\"\n",
    "CREATE TABLE FacturasDeCompras (\n",
    "    InvoicePurchaseID INT PRIMARY KEY,\n",
    "    VendorNumber INT,\n",
    "    VendorName NVARCHAR(255),\n",
    "    InvoiceDate DATE,\n",
    "    PONumber INT,\n",
    "    PODate DATE,\n",
    "    PayDate DATE,\n",
    "    Quantity INT,\n",
    "    Dollars FLOAT,\n",
    "    Freight FLOAT,\n",
    "    YearMonth NVARCHAR(7),\n",
    "    Interval_Days INT,\n",
    "    FreightPercentage FLOAT\n",
    ");\n",
    "\"\"\"\n",
    "\n",
    "cursor.execute(create_table_query)\n",
    "conn.commit()\n",
    "print(\"Tabla 'FacturasDeCompras' creada exitosamente.\")\n"
   ]
  },
  {
   "cell_type": "markdown",
   "metadata": {},
   "source": [
    "Cargar los datos"
   ]
  },
  {
   "cell_type": "code",
   "execution_count": 6,
   "metadata": {},
   "outputs": [
    {
     "name": "stdout",
     "output_type": "stream",
     "text": [
      "Datos insertados exitosamente en la tabla 'FacturasDeCompras'.\n"
     ]
    }
   ],
   "source": [
    "\n",
    "# Leer datos del archivo CSV\n",
    "csv_file = 'InvoicePurchases.csv'  # Ruta al archivo CSV\n",
    "data = pd.read_csv(csv_file)\n",
    "\n",
    "# Insertar datos en la tabla SQL\n",
    "for index, row in data.iterrows():\n",
    "    insert_query = \"\"\"\n",
    "    INSERT INTO FacturasDeCompras (\n",
    "        InvoicePurchaseID, VendorNumber, VendorName, InvoiceDate, PONumber, PODate, PayDate,\n",
    "        Quantity, Dollars, Freight, YearMonth, Interval_Days, FreightPercentage\n",
    "    ) VALUES (?, ?, ?, ?, ?, ?, ?, ?, ?, ?, ?, ?, ?)\n",
    "    \"\"\"\n",
    "    cursor.execute(insert_query, row['InvoicePurchaseID'], row['VendorNumber'], row['VendorName'], row['InvoiceDate'],\n",
    "                   row['PONumber'], row['PODate'], row['PayDate'], row['Quantity'], row['Dollars'], row['Freight'],\n",
    "                   row['YearMonth'], row['Interval_Days'], row['FreightPercentage'])\n",
    "\n",
    "conn.commit()\n",
    "print(\"Datos insertados exitosamente en la tabla 'FacturasDeCompras'.\")\n",
    "\n",
    "\n"
   ]
  },
  {
   "cell_type": "markdown",
   "metadata": {},
   "source": [
    "crear tabla INVENTARIO INICIAL"
   ]
  },
  {
   "cell_type": "code",
   "execution_count": 10,
   "metadata": {},
   "outputs": [
    {
     "name": "stdout",
     "output_type": "stream",
     "text": [
      "Tabla 'InventarioInicial' creada exitosamente.\n"
     ]
    }
   ],
   "source": [
    "# Crear la tabla InventarioInicial en SQL Server\n",
    "create_table_query = \"\"\"\n",
    "CREATE TABLE InventarioInicial (\n",
    "    InventoryId NVARCHAR(50) PRIMARY KEY,\n",
    "    Store INT,\n",
    "    City NVARCHAR(255),\n",
    "    Brand INT,\n",
    "    Description NVARCHAR(255),\n",
    "    onHand INT,\n",
    "    Price FLOAT,\n",
    "    startDate DATE,\n",
    "    size_ml FLOAT,\n",
    "    pack_count INT\n",
    ");\n",
    "\"\"\"\n",
    "\n",
    "try:\n",
    "    cursor.execute(create_table_query)\n",
    "    conn.commit()\n",
    "    print(\"Tabla 'InventarioInicial' creada exitosamente.\")\n",
    "except pyodbc.Error as e:\n",
    "    print(f\"Error al crear la tabla: {e}\")\n"
   ]
  },
  {
   "cell_type": "code",
   "execution_count": 11,
   "metadata": {},
   "outputs": [
    {
     "name": "stdout",
     "output_type": "stream",
     "text": [
      "Datos insertados exitosamente en la tabla 'InventarioInicial'.\n"
     ]
    }
   ],
   "source": [
    "\n",
    "# Cargar datos desde el archivo CSV\n",
    "csv_file = 'BegInventory.csv'  # Asegúrate de que el archivo esté en el mismo directorio\n",
    "data = pd.read_csv(csv_file)\n",
    "\n",
    "# Insertar datos en la tabla SQL\n",
    "insert_query = \"\"\"\n",
    "INSERT INTO InventarioInicial (InventoryId, Store, City, Brand, Description, onHand, Price, startDate, size_ml, pack_count)\n",
    "VALUES (?, ?, ?, ?, ?, ?, ?, ?, ?, ?);\n",
    "\"\"\"\n",
    "\n",
    "try:\n",
    "    for index, row in data.iterrows():\n",
    "        cursor.execute(insert_query, row['InventoryId'], row['Store'], row['City'], row['Brand'], row['Description'],\n",
    "                       row['onHand'], row['Price'], row['startDate'], row['size_ml'], row['pack_count'])\n",
    "    conn.commit()\n",
    "    print(\"Datos insertados exitosamente en la tabla 'InventarioInicial'.\")\n",
    "except pyodbc.Error as e:\n",
    "    print(f\"Error al insertar datos: {e}\")\n",
    "\n"
   ]
  }
 ],
 "metadata": {
  "kernelspec": {
   "display_name": "venv",
   "language": "python",
   "name": "python3"
  },
  "language_info": {
   "codemirror_mode": {
    "name": "ipython",
    "version": 3
   },
   "file_extension": ".py",
   "mimetype": "text/x-python",
   "name": "python",
   "nbconvert_exporter": "python",
   "pygments_lexer": "ipython3",
   "version": "3.13.0"
  }
 },
 "nbformat": 4,
 "nbformat_minor": 2
}
